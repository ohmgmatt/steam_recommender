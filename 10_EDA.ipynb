{
 "cells": [
  {
   "cell_type": "code",
   "execution_count": 1,
   "metadata": {},
   "outputs": [],
   "source": [
    "import pandas as pd\n",
    "import seaborn as sns\n",
    "import matplotlib.pyplot as plt\n",
    "\n",
    "import sqlite3"
   ]
  },
  {
   "cell_type": "code",
   "execution_count": 2,
   "metadata": {},
   "outputs": [],
   "source": [
    "conn = sqlite3.connect('steam.db')\n",
    "\n",
    "df = pd.read_sql_query(\"SELECT * FROM gameplay;\", conn)"
   ]
  },
  {
   "cell_type": "code",
   "execution_count": 3,
   "metadata": {},
   "outputs": [],
   "source": [
    "df = df.drop(['index'], axis = 1)\n",
    "df = df.drop_duplicates()"
   ]
  },
  {
   "cell_type": "code",
   "execution_count": 5,
   "metadata": {},
   "outputs": [
    {
     "data": {
      "text/html": [
       "<div>\n",
       "<style scoped>\n",
       "    .dataframe tbody tr th:only-of-type {\n",
       "        vertical-align: middle;\n",
       "    }\n",
       "\n",
       "    .dataframe tbody tr th {\n",
       "        vertical-align: top;\n",
       "    }\n",
       "\n",
       "    .dataframe thead th {\n",
       "        text-align: right;\n",
       "    }\n",
       "</style>\n",
       "<table border=\"1\" class=\"dataframe\">\n",
       "  <thead>\n",
       "    <tr style=\"text-align: right;\">\n",
       "      <th></th>\n",
       "      <th>appID</th>\n",
       "      <th>playtime</th>\n",
       "    </tr>\n",
       "  </thead>\n",
       "  <tbody>\n",
       "    <tr>\n",
       "      <th>count</th>\n",
       "      <td>1.339385e+06</td>\n",
       "      <td>1.339385e+06</td>\n",
       "    </tr>\n",
       "    <tr>\n",
       "      <th>mean</th>\n",
       "      <td>2.899098e+05</td>\n",
       "      <td>1.181617e+03</td>\n",
       "    </tr>\n",
       "    <tr>\n",
       "      <th>std</th>\n",
       "      <td>1.977750e+05</td>\n",
       "      <td>1.079488e+04</td>\n",
       "    </tr>\n",
       "    <tr>\n",
       "      <th>min</th>\n",
       "      <td>1.000000e+01</td>\n",
       "      <td>1.000000e+00</td>\n",
       "    </tr>\n",
       "    <tr>\n",
       "      <th>25%</th>\n",
       "      <td>2.020900e+05</td>\n",
       "      <td>5.700000e+01</td>\n",
       "    </tr>\n",
       "    <tr>\n",
       "      <th>50%</th>\n",
       "      <td>2.705500e+05</td>\n",
       "      <td>1.750000e+02</td>\n",
       "    </tr>\n",
       "    <tr>\n",
       "      <th>75%</th>\n",
       "      <td>3.974600e+05</td>\n",
       "      <td>3.950000e+02</td>\n",
       "    </tr>\n",
       "    <tr>\n",
       "      <th>max</th>\n",
       "      <td>1.170820e+06</td>\n",
       "      <td>1.654162e+06</td>\n",
       "    </tr>\n",
       "  </tbody>\n",
       "</table>\n",
       "</div>"
      ],
      "text/plain": [
       "              appID      playtime\n",
       "count  1.339385e+06  1.339385e+06\n",
       "mean   2.899098e+05  1.181617e+03\n",
       "std    1.977750e+05  1.079488e+04\n",
       "min    1.000000e+01  1.000000e+00\n",
       "25%    2.020900e+05  5.700000e+01\n",
       "50%    2.705500e+05  1.750000e+02\n",
       "75%    3.974600e+05  3.950000e+02\n",
       "max    1.170820e+06  1.654162e+06"
      ]
     },
     "execution_count": 5,
     "metadata": {},
     "output_type": "execute_result"
    }
   ],
   "source": [
    "df.describe()"
   ]
  },
  {
   "cell_type": "code",
   "execution_count": 4,
   "metadata": {},
   "outputs": [
    {
     "data": {
      "text/html": [
       "<div>\n",
       "<style scoped>\n",
       "    .dataframe tbody tr th:only-of-type {\n",
       "        vertical-align: middle;\n",
       "    }\n",
       "\n",
       "    .dataframe tbody tr th {\n",
       "        vertical-align: top;\n",
       "    }\n",
       "\n",
       "    .dataframe thead th {\n",
       "        text-align: right;\n",
       "    }\n",
       "</style>\n",
       "<table border=\"1\" class=\"dataframe\">\n",
       "  <thead>\n",
       "    <tr style=\"text-align: right;\">\n",
       "      <th></th>\n",
       "      <th>steamID</th>\n",
       "      <th>appID</th>\n",
       "      <th>playtime</th>\n",
       "    </tr>\n",
       "  </thead>\n",
       "  <tbody>\n",
       "    <tr>\n",
       "      <th>0</th>\n",
       "      <td>76561198015016293</td>\n",
       "      <td>3910</td>\n",
       "      <td>1952</td>\n",
       "    </tr>\n",
       "    <tr>\n",
       "      <th>1</th>\n",
       "      <td>76561198015016293</td>\n",
       "      <td>13230</td>\n",
       "      <td>252</td>\n",
       "    </tr>\n",
       "    <tr>\n",
       "      <th>2</th>\n",
       "      <td>76561198015016293</td>\n",
       "      <td>12320</td>\n",
       "      <td>1137</td>\n",
       "    </tr>\n",
       "    <tr>\n",
       "      <th>3</th>\n",
       "      <td>76561198015016293</td>\n",
       "      <td>24740</td>\n",
       "      <td>59</td>\n",
       "    </tr>\n",
       "    <tr>\n",
       "      <th>4</th>\n",
       "      <td>76561198015016293</td>\n",
       "      <td>8980</td>\n",
       "      <td>4132</td>\n",
       "    </tr>\n",
       "  </tbody>\n",
       "</table>\n",
       "</div>"
      ],
      "text/plain": [
       "             steamID  appID  playtime\n",
       "0  76561198015016293   3910      1952\n",
       "1  76561198015016293  13230       252\n",
       "2  76561198015016293  12320      1137\n",
       "3  76561198015016293  24740        59\n",
       "4  76561198015016293   8980      4132"
      ]
     },
     "execution_count": 4,
     "metadata": {},
     "output_type": "execute_result"
    }
   ],
   "source": [
    "df.head()"
   ]
  },
  {
   "cell_type": "code",
   "execution_count": 5,
   "metadata": {},
   "outputs": [
    {
     "name": "stdout",
     "output_type": "stream",
     "text": [
      "Unique Users:  6092\n",
      "Unique Games:  22489\n"
     ]
    }
   ],
   "source": [
    "print(\"Unique Users: \", df['steamID'].nunique())\n",
    "print(\"Unique Games: \", df['appID'].nunique())"
   ]
  },
  {
   "cell_type": "code",
   "execution_count": 6,
   "metadata": {},
   "outputs": [
    {
     "data": {
      "text/plain": [
       "count    1.339385e+06\n",
       "mean     1.181617e+03\n",
       "std      1.079488e+04\n",
       "min      1.000000e+00\n",
       "25%      5.700000e+01\n",
       "50%      1.750000e+02\n",
       "75%      3.950000e+02\n",
       "max      1.654162e+06\n",
       "Name: playtime, dtype: float64"
      ]
     },
     "execution_count": 6,
     "metadata": {},
     "output_type": "execute_result"
    }
   ],
   "source": [
    "df.playtime.describe()"
   ]
  },
  {
   "cell_type": "code",
   "execution_count": 7,
   "metadata": {},
   "outputs": [
    {
     "data": {
      "text/html": [
       "<div>\n",
       "<style scoped>\n",
       "    .dataframe tbody tr th:only-of-type {\n",
       "        vertical-align: middle;\n",
       "    }\n",
       "\n",
       "    .dataframe tbody tr th {\n",
       "        vertical-align: top;\n",
       "    }\n",
       "\n",
       "    .dataframe thead th {\n",
       "        text-align: right;\n",
       "    }\n",
       "</style>\n",
       "<table border=\"1\" class=\"dataframe\">\n",
       "  <thead>\n",
       "    <tr style=\"text-align: right;\">\n",
       "      <th></th>\n",
       "      <th>steamID</th>\n",
       "      <th>appID</th>\n",
       "      <th>playtime</th>\n",
       "    </tr>\n",
       "  </thead>\n",
       "  <tbody>\n",
       "    <tr>\n",
       "      <th>234193</th>\n",
       "      <td>76561198015375610</td>\n",
       "      <td>333600</td>\n",
       "      <td>1654162</td>\n",
       "    </tr>\n",
       "  </tbody>\n",
       "</table>\n",
       "</div>"
      ],
      "text/plain": [
       "                  steamID   appID  playtime\n",
       "234193  76561198015375610  333600   1654162"
      ]
     },
     "execution_count": 7,
     "metadata": {},
     "output_type": "execute_result"
    }
   ],
   "source": [
    "df[df['playtime'] == df['playtime'].max()]"
   ]
  },
  {
   "cell_type": "markdown",
   "metadata": {},
   "source": [
    "The game with highest playtime from this dataset is a game called NekoPara Vol 1. \n",
    "https://steamdb.info/app/333600/"
   ]
  },
  {
   "cell_type": "code",
   "execution_count": 8,
   "metadata": {},
   "outputs": [
    {
     "data": {
      "text/plain": [
       "steamID     41782\n",
       "appID       41782\n",
       "playtime    41782\n",
       "dtype: int64"
      ]
     },
     "execution_count": 8,
     "metadata": {},
     "output_type": "execute_result"
    }
   ],
   "source": [
    "df[df['playtime'] == df['playtime'].min()].count()"
   ]
  },
  {
   "cell_type": "code",
   "execution_count": 9,
   "metadata": {},
   "outputs": [
    {
     "data": {
      "image/png": "[encoded data removed]",
      "text/plain": [
       "<Figure size 432x288 with 1 Axes>"
      ]
     },
     "metadata": {
      "needs_background": "light"
     },
     "output_type": "display_data"
    }
   ],
   "source": [
    "plt.plot(df['playtime'])\n",
    "plt.show()"
   ]
  },
  {
   "cell_type": "markdown",
   "metadata": {},
   "source": [
    "Distribution of playtime does not say much since each games 'replayability' and 'playthrough' vary. "
   ]
  },
  {
   "cell_type": "code",
   "execution_count": 10,
   "metadata": {},
   "outputs": [
    {
     "data": {
      "text/plain": [
       "13751"
      ]
     },
     "execution_count": 10,
     "metadata": {},
     "output_type": "execute_result"
    }
   ],
   "source": [
    "sum(df.groupby('appID').steamID.count() > 5)"
   ]
  },
  {
   "cell_type": "code",
   "execution_count": 11,
   "metadata": {},
   "outputs": [
    {
     "data": {
      "text/plain": [
       "appID\n",
       "730       5132\n",
       "550       3974\n",
       "578080    3409\n",
       "620       3159\n",
       "49520     2839\n",
       "218620    2813\n",
       "105600    2794\n",
       "4000      2675\n",
       "271590    2481\n",
       "400       2458\n",
       "Name: steamID, dtype: int64"
      ]
     },
     "execution_count": 11,
     "metadata": {},
     "output_type": "execute_result"
    }
   ],
   "source": [
    "df.groupby('appID').steamID.count().sort_values(ascending = False)[:10]"
   ]
  },
  {
   "cell_type": "markdown",
   "metadata": {},
   "source": [
    "The game with most number of users playing it in this dataset is CS:GO. Followed by Left 4 Dead 2.   \n",
    "By the process in which we're scraping the data, this makes sense. We're going by the friendslist of each steamID. If they're playing CS:GO, they're most likely making friends who also play CS:GO, a multiplayer FPS. "
   ]
  },
  {
   "cell_type": "code",
   "execution_count": 12,
   "metadata": {},
   "outputs": [],
   "source": [
    "played = df.groupby('appID').steamID.count().sort_values(ascending = False)"
   ]
  },
  {
   "cell_type": "code",
   "execution_count": 13,
   "metadata": {},
   "outputs": [
    {
     "data": {
      "image/png": "[encoded data removed]",
      "text/plain": [
       "<Figure size 432x288 with 1 Axes>"
      ]
     },
     "metadata": {
      "needs_background": "light"
     },
     "output_type": "display_data"
    }
   ],
   "source": [
    "plt.hist(played)\n",
    "plt.yscale('log')\n",
    "plt.show()"
   ]
  },
  {
   "cell_type": "code",
   "execution_count": 14,
   "metadata": {},
   "outputs": [],
   "source": [
    "app_total_playtime = df.groupby('appID').playtime.mean()"
   ]
  },
  {
   "cell_type": "code",
   "execution_count": 15,
   "metadata": {},
   "outputs": [],
   "source": [
    "df_fix = df.join(app_total_playtime, how='left', on='appID', rsuffix='a_')"
   ]
  },
  {
   "cell_type": "code",
   "execution_count": 16,
   "metadata": {},
   "outputs": [],
   "source": [
    "df['pt_by_app'] = df_fix.playtime /df_fix.playtimea_"
   ]
  },
  {
   "cell_type": "code",
   "execution_count": 17,
   "metadata": {},
   "outputs": [],
   "source": [
    "user_total_playtime = df.groupby('steamID').playtime.median()"
   ]
  },
  {
   "cell_type": "code",
   "execution_count": 18,
   "metadata": {},
   "outputs": [],
   "source": [
    "df_fix = df.join(user_total_playtime, how='left', on = 'steamID', rsuffix='a_')"
   ]
  },
  {
   "cell_type": "code",
   "execution_count": 19,
   "metadata": {},
   "outputs": [],
   "source": [
    "df['pt_by_user'] = df_fix.playtime / df_fix.playtimea_"
   ]
  },
  {
   "cell_type": "code",
   "execution_count": 20,
   "metadata": {},
   "outputs": [],
   "source": [
    "df['rating'] = df['pt_by_app'] * df['pt_by_user']"
   ]
  },
  {
   "cell_type": "code",
   "execution_count": 21,
   "metadata": {},
   "outputs": [
    {
     "data": {
      "text/html": [
       "<div>\n",
       "<style scoped>\n",
       "    .dataframe tbody tr th:only-of-type {\n",
       "        vertical-align: middle;\n",
       "    }\n",
       "\n",
       "    .dataframe tbody tr th {\n",
       "        vertical-align: top;\n",
       "    }\n",
       "\n",
       "    .dataframe thead th {\n",
       "        text-align: right;\n",
       "    }\n",
       "</style>\n",
       "<table border=\"1\" class=\"dataframe\">\n",
       "  <thead>\n",
       "    <tr style=\"text-align: right;\">\n",
       "      <th></th>\n",
       "      <th>steamID</th>\n",
       "      <th>appID</th>\n",
       "      <th>playtime</th>\n",
       "      <th>pt_by_app</th>\n",
       "      <th>pt_by_user</th>\n",
       "      <th>rating</th>\n",
       "    </tr>\n",
       "  </thead>\n",
       "  <tbody>\n",
       "    <tr>\n",
       "      <th>0</th>\n",
       "      <td>76561198015016293</td>\n",
       "      <td>3910</td>\n",
       "      <td>1952</td>\n",
       "      <td>4.442400</td>\n",
       "      <td>5.707602</td>\n",
       "      <td>25.355453</td>\n",
       "    </tr>\n",
       "    <tr>\n",
       "      <th>1</th>\n",
       "      <td>76561198015016293</td>\n",
       "      <td>13230</td>\n",
       "      <td>252</td>\n",
       "      <td>0.803394</td>\n",
       "      <td>0.736842</td>\n",
       "      <td>0.591975</td>\n",
       "    </tr>\n",
       "    <tr>\n",
       "      <th>2</th>\n",
       "      <td>76561198015016293</td>\n",
       "      <td>12320</td>\n",
       "      <td>1137</td>\n",
       "      <td>1.530854</td>\n",
       "      <td>3.324561</td>\n",
       "      <td>5.089417</td>\n",
       "    </tr>\n",
       "    <tr>\n",
       "      <th>3</th>\n",
       "      <td>76561198015016293</td>\n",
       "      <td>24740</td>\n",
       "      <td>59</td>\n",
       "      <td>0.140930</td>\n",
       "      <td>0.172515</td>\n",
       "      <td>0.024312</td>\n",
       "    </tr>\n",
       "    <tr>\n",
       "      <th>4</th>\n",
       "      <td>76561198015016293</td>\n",
       "      <td>8980</td>\n",
       "      <td>4132</td>\n",
       "      <td>1.816186</td>\n",
       "      <td>12.081871</td>\n",
       "      <td>21.942921</td>\n",
       "    </tr>\n",
       "  </tbody>\n",
       "</table>\n",
       "</div>"
      ],
      "text/plain": [
       "             steamID  appID  playtime  pt_by_app  pt_by_user     rating\n",
       "0  76561198015016293   3910      1952   4.442400    5.707602  25.355453\n",
       "1  76561198015016293  13230       252   0.803394    0.736842   0.591975\n",
       "2  76561198015016293  12320      1137   1.530854    3.324561   5.089417\n",
       "3  76561198015016293  24740        59   0.140930    0.172515   0.024312\n",
       "4  76561198015016293   8980      4132   1.816186   12.081871  21.942921"
      ]
     },
     "execution_count": 21,
     "metadata": {},
     "output_type": "execute_result"
    }
   ],
   "source": [
    "df.head()"
   ]
  },
  {
   "cell_type": "code",
   "execution_count": 22,
   "metadata": {},
   "outputs": [
    {
     "data": {
      "text/html": [
       "<div>\n",
       "<style scoped>\n",
       "    .dataframe tbody tr th:only-of-type {\n",
       "        vertical-align: middle;\n",
       "    }\n",
       "\n",
       "    .dataframe tbody tr th {\n",
       "        vertical-align: top;\n",
       "    }\n",
       "\n",
       "    .dataframe thead th {\n",
       "        text-align: right;\n",
       "    }\n",
       "</style>\n",
       "<table border=\"1\" class=\"dataframe\">\n",
       "  <thead>\n",
       "    <tr style=\"text-align: right;\">\n",
       "      <th></th>\n",
       "      <th>appID</th>\n",
       "      <th>playtime</th>\n",
       "      <th>pt_by_app</th>\n",
       "      <th>pt_by_user</th>\n",
       "      <th>rating</th>\n",
       "    </tr>\n",
       "  </thead>\n",
       "  <tbody>\n",
       "    <tr>\n",
       "      <th>count</th>\n",
       "      <td>1.339385e+06</td>\n",
       "      <td>1.339385e+06</td>\n",
       "      <td>1.339385e+06</td>\n",
       "      <td>1.339385e+06</td>\n",
       "      <td>1.339385e+06</td>\n",
       "    </tr>\n",
       "    <tr>\n",
       "      <th>mean</th>\n",
       "      <td>2.899098e+05</td>\n",
       "      <td>1.181617e+03</td>\n",
       "      <td>1.000000e+00</td>\n",
       "      <td>8.543765e+00</td>\n",
       "      <td>8.808822e+01</td>\n",
       "    </tr>\n",
       "    <tr>\n",
       "      <th>std</th>\n",
       "      <td>1.977750e+05</td>\n",
       "      <td>1.079488e+04</td>\n",
       "      <td>3.753305e+00</td>\n",
       "      <td>3.966443e+02</td>\n",
       "      <td>1.056194e+04</td>\n",
       "    </tr>\n",
       "    <tr>\n",
       "      <th>min</th>\n",
       "      <td>1.000000e+01</td>\n",
       "      <td>1.000000e+00</td>\n",
       "      <td>1.510186e-05</td>\n",
       "      <td>3.826140e-05</td>\n",
       "      <td>1.063722e-08</td>\n",
       "    </tr>\n",
       "    <tr>\n",
       "      <th>25%</th>\n",
       "      <td>2.020900e+05</td>\n",
       "      <td>5.700000e+01</td>\n",
       "      <td>1.434969e-01</td>\n",
       "      <td>3.975155e-01</td>\n",
       "      <td>6.418406e-02</td>\n",
       "    </tr>\n",
       "    <tr>\n",
       "      <th>50%</th>\n",
       "      <td>2.705500e+05</td>\n",
       "      <td>1.750000e+02</td>\n",
       "      <td>5.161122e-01</td>\n",
       "      <td>1.000000e+00</td>\n",
       "      <td>5.305961e-01</td>\n",
       "    </tr>\n",
       "    <tr>\n",
       "      <th>75%</th>\n",
       "      <td>3.974600e+05</td>\n",
       "      <td>3.950000e+02</td>\n",
       "      <td>1.089913e+00</td>\n",
       "      <td>2.235537e+00</td>\n",
       "      <td>2.002959e+00</td>\n",
       "    </tr>\n",
       "    <tr>\n",
       "      <th>max</th>\n",
       "      <td>1.170820e+06</td>\n",
       "      <td>1.654162e+06</td>\n",
       "      <td>8.731109e+02</td>\n",
       "      <td>3.035320e+05</td>\n",
       "      <td>9.774025e+06</td>\n",
       "    </tr>\n",
       "  </tbody>\n",
       "</table>\n",
       "</div>"
      ],
      "text/plain": [
       "              appID      playtime     pt_by_app    pt_by_user        rating\n",
       "count  1.339385e+06  1.339385e+06  1.339385e+06  1.339385e+06  1.339385e+06\n",
       "mean   2.899098e+05  1.181617e+03  1.000000e+00  8.543765e+00  8.808822e+01\n",
       "std    1.977750e+05  1.079488e+04  3.753305e+00  3.966443e+02  1.056194e+04\n",
       "min    1.000000e+01  1.000000e+00  1.510186e-05  3.826140e-05  1.063722e-08\n",
       "25%    2.020900e+05  5.700000e+01  1.434969e-01  3.975155e-01  6.418406e-02\n",
       "50%    2.705500e+05  1.750000e+02  5.161122e-01  1.000000e+00  5.305961e-01\n",
       "75%    3.974600e+05  3.950000e+02  1.089913e+00  2.235537e+00  2.002959e+00\n",
       "max    1.170820e+06  1.654162e+06  8.731109e+02  3.035320e+05  9.774025e+06"
      ]
     },
     "execution_count": 22,
     "metadata": {},
     "output_type": "execute_result"
    }
   ],
   "source": [
    "df.describe()"
   ]
  },
  {
   "cell_type": "code",
   "execution_count": 23,
   "metadata": {},
   "outputs": [
    {
     "data": {
      "text/html": [
       "<div>\n",
       "<style scoped>\n",
       "    .dataframe tbody tr th:only-of-type {\n",
       "        vertical-align: middle;\n",
       "    }\n",
       "\n",
       "    .dataframe tbody tr th {\n",
       "        vertical-align: top;\n",
       "    }\n",
       "\n",
       "    .dataframe thead th {\n",
       "        text-align: right;\n",
       "    }\n",
       "</style>\n",
       "<table border=\"1\" class=\"dataframe\">\n",
       "  <thead>\n",
       "    <tr style=\"text-align: right;\">\n",
       "      <th></th>\n",
       "      <th>steamID</th>\n",
       "      <th>appID</th>\n",
       "      <th>playtime</th>\n",
       "      <th>pt_by_app</th>\n",
       "      <th>pt_by_user</th>\n",
       "      <th>rating</th>\n",
       "    </tr>\n",
       "  </thead>\n",
       "  <tbody>\n",
       "    <tr>\n",
       "      <th>995113</th>\n",
       "      <td>76561197994044568</td>\n",
       "      <td>240</td>\n",
       "      <td>303532</td>\n",
       "      <td>32.20097</td>\n",
       "      <td>303532.0</td>\n",
       "      <td>9.774025e+06</td>\n",
       "    </tr>\n",
       "  </tbody>\n",
       "</table>\n",
       "</div>"
      ],
      "text/plain": [
       "                  steamID  appID  playtime  pt_by_app  pt_by_user  \\\n",
       "995113  76561197994044568    240    303532   32.20097    303532.0   \n",
       "\n",
       "              rating  \n",
       "995113  9.774025e+06  "
      ]
     },
     "execution_count": 23,
     "metadata": {},
     "output_type": "execute_result"
    }
   ],
   "source": [
    "df[df['rating'] == df.rating.max()]"
   ]
  },
  {
   "cell_type": "code",
   "execution_count": 24,
   "metadata": {},
   "outputs": [
    {
     "data": {
      "text/html": [
       "<div>\n",
       "<style scoped>\n",
       "    .dataframe tbody tr th:only-of-type {\n",
       "        vertical-align: middle;\n",
       "    }\n",
       "\n",
       "    .dataframe tbody tr th {\n",
       "        vertical-align: top;\n",
       "    }\n",
       "\n",
       "    .dataframe thead th {\n",
       "        text-align: right;\n",
       "    }\n",
       "</style>\n",
       "<table border=\"1\" class=\"dataframe\">\n",
       "  <thead>\n",
       "    <tr style=\"text-align: right;\">\n",
       "      <th></th>\n",
       "      <th>steamID</th>\n",
       "      <th>appID</th>\n",
       "      <th>playtime</th>\n",
       "      <th>pt_by_app</th>\n",
       "      <th>pt_by_user</th>\n",
       "      <th>rating</th>\n",
       "    </tr>\n",
       "  </thead>\n",
       "  <tbody>\n",
       "    <tr>\n",
       "      <th>995113</th>\n",
       "      <td>76561197994044568</td>\n",
       "      <td>240</td>\n",
       "      <td>303532</td>\n",
       "      <td>32.200970</td>\n",
       "      <td>303532.0</td>\n",
       "      <td>9.774025e+06</td>\n",
       "    </tr>\n",
       "    <tr>\n",
       "      <th>995114</th>\n",
       "      <td>76561197994044568</td>\n",
       "      <td>730</td>\n",
       "      <td>117289</td>\n",
       "      <td>2.891381</td>\n",
       "      <td>117289.0</td>\n",
       "      <td>3.391272e+05</td>\n",
       "    </tr>\n",
       "    <tr>\n",
       "      <th>995115</th>\n",
       "      <td>76561197994044568</td>\n",
       "      <td>252150</td>\n",
       "      <td>101</td>\n",
       "      <td>0.567266</td>\n",
       "      <td>101.0</td>\n",
       "      <td>5.729387e+01</td>\n",
       "    </tr>\n",
       "    <tr>\n",
       "      <th>995116</th>\n",
       "      <td>76561197994044568</td>\n",
       "      <td>304050</td>\n",
       "      <td>9</td>\n",
       "      <td>0.002335</td>\n",
       "      <td>9.0</td>\n",
       "      <td>2.101179e-02</td>\n",
       "    </tr>\n",
       "    <tr>\n",
       "      <th>995117</th>\n",
       "      <td>76561197994044568</td>\n",
       "      <td>429680</td>\n",
       "      <td>1</td>\n",
       "      <td>0.002210</td>\n",
       "      <td>1.0</td>\n",
       "      <td>2.209868e-03</td>\n",
       "    </tr>\n",
       "    <tr>\n",
       "      <th>995118</th>\n",
       "      <td>76561197994044568</td>\n",
       "      <td>459820</td>\n",
       "      <td>1</td>\n",
       "      <td>0.000471</td>\n",
       "      <td>1.0</td>\n",
       "      <td>4.707132e-04</td>\n",
       "    </tr>\n",
       "    <tr>\n",
       "      <th>995119</th>\n",
       "      <td>76561197994044568</td>\n",
       "      <td>531640</td>\n",
       "      <td>1</td>\n",
       "      <td>0.000320</td>\n",
       "      <td>1.0</td>\n",
       "      <td>3.201411e-04</td>\n",
       "    </tr>\n",
       "    <tr>\n",
       "      <th>995120</th>\n",
       "      <td>76561197994044568</td>\n",
       "      <td>578080</td>\n",
       "      <td>4751</td>\n",
       "      <td>0.235913</td>\n",
       "      <td>4751.0</td>\n",
       "      <td>1.120825e+03</td>\n",
       "    </tr>\n",
       "    <tr>\n",
       "      <th>995121</th>\n",
       "      <td>76561197994044568</td>\n",
       "      <td>351940</td>\n",
       "      <td>89</td>\n",
       "      <td>0.367534</td>\n",
       "      <td>89.0</td>\n",
       "      <td>3.271055e+01</td>\n",
       "    </tr>\n",
       "    <tr>\n",
       "      <th>995122</th>\n",
       "      <td>76561197994044568</td>\n",
       "      <td>591960</td>\n",
       "      <td>1</td>\n",
       "      <td>0.000856</td>\n",
       "      <td>1.0</td>\n",
       "      <td>8.561644e-04</td>\n",
       "    </tr>\n",
       "    <tr>\n",
       "      <th>995123</th>\n",
       "      <td>76561197994044568</td>\n",
       "      <td>596650</td>\n",
       "      <td>1</td>\n",
       "      <td>0.000071</td>\n",
       "      <td>1.0</td>\n",
       "      <td>7.061584e-05</td>\n",
       "    </tr>\n",
       "    <tr>\n",
       "      <th>995124</th>\n",
       "      <td>76561197994044568</td>\n",
       "      <td>601510</td>\n",
       "      <td>1</td>\n",
       "      <td>0.000449</td>\n",
       "      <td>1.0</td>\n",
       "      <td>4.485684e-04</td>\n",
       "    </tr>\n",
       "    <tr>\n",
       "      <th>995125</th>\n",
       "      <td>76561197994044568</td>\n",
       "      <td>842150</td>\n",
       "      <td>1</td>\n",
       "      <td>0.000016</td>\n",
       "      <td>1.0</td>\n",
       "      <td>1.553719e-05</td>\n",
       "    </tr>\n",
       "    <tr>\n",
       "      <th>995126</th>\n",
       "      <td>76561197994044568</td>\n",
       "      <td>270550</td>\n",
       "      <td>1</td>\n",
       "      <td>0.006472</td>\n",
       "      <td>1.0</td>\n",
       "      <td>6.472229e-03</td>\n",
       "    </tr>\n",
       "    <tr>\n",
       "      <th>995127</th>\n",
       "      <td>76561197994044568</td>\n",
       "      <td>283880</td>\n",
       "      <td>1</td>\n",
       "      <td>0.006812</td>\n",
       "      <td>1.0</td>\n",
       "      <td>6.811690e-03</td>\n",
       "    </tr>\n",
       "  </tbody>\n",
       "</table>\n",
       "</div>"
      ],
      "text/plain": [
       "                  steamID   appID  playtime  pt_by_app  pt_by_user  \\\n",
       "995113  76561197994044568     240    303532  32.200970    303532.0   \n",
       "995114  76561197994044568     730    117289   2.891381    117289.0   \n",
       "995115  76561197994044568  252150       101   0.567266       101.0   \n",
       "995116  76561197994044568  304050         9   0.002335         9.0   \n",
       "995117  76561197994044568  429680         1   0.002210         1.0   \n",
       "995118  76561197994044568  459820         1   0.000471         1.0   \n",
       "995119  76561197994044568  531640         1   0.000320         1.0   \n",
       "995120  76561197994044568  578080      4751   0.235913      4751.0   \n",
       "995121  76561197994044568  351940        89   0.367534        89.0   \n",
       "995122  76561197994044568  591960         1   0.000856         1.0   \n",
       "995123  76561197994044568  596650         1   0.000071         1.0   \n",
       "995124  76561197994044568  601510         1   0.000449         1.0   \n",
       "995125  76561197994044568  842150         1   0.000016         1.0   \n",
       "995126  76561197994044568  270550         1   0.006472         1.0   \n",
       "995127  76561197994044568  283880         1   0.006812         1.0   \n",
       "\n",
       "              rating  \n",
       "995113  9.774025e+06  \n",
       "995114  3.391272e+05  \n",
       "995115  5.729387e+01  \n",
       "995116  2.101179e-02  \n",
       "995117  2.209868e-03  \n",
       "995118  4.707132e-04  \n",
       "995119  3.201411e-04  \n",
       "995120  1.120825e+03  \n",
       "995121  3.271055e+01  \n",
       "995122  8.561644e-04  \n",
       "995123  7.061584e-05  \n",
       "995124  4.485684e-04  \n",
       "995125  1.553719e-05  \n",
       "995126  6.472229e-03  \n",
       "995127  6.811690e-03  "
      ]
     },
     "execution_count": 24,
     "metadata": {},
     "output_type": "execute_result"
    }
   ],
   "source": [
    "df[df.steamID == '76561197994044568']"
   ]
  },
  {
   "cell_type": "code",
   "execution_count": 25,
   "metadata": {},
   "outputs": [
    {
     "data": {
      "text/plain": [
       "(array([1.339123e+06, 1.840000e+02, 4.500000e+01, 1.100000e+01,\n",
       "        9.000000e+00, 4.000000e+00, 2.000000e+00, 2.000000e+00,\n",
       "        3.000000e+00, 2.000000e+00]),\n",
       " array([1.51018621e-05, 8.73111019e+01, 1.74622189e+02, 2.61933275e+02,\n",
       "        3.49244362e+02, 4.36555449e+02, 5.23866536e+02, 6.11177623e+02,\n",
       "        6.98488709e+02, 7.85799796e+02, 8.73110883e+02]),\n",
       " <a list of 10 Patch objects>)"
      ]
     },
     "execution_count": 25,
     "metadata": {},
     "output_type": "execute_result"
    },
    {
     "data": {
      "image/png": "[encoded data removed]",
      "text/plain": [
       "<Figure size 432x288 with 1 Axes>"
      ]
     },
     "metadata": {
      "needs_background": "light"
     },
     "output_type": "display_data"
    }
   ],
   "source": [
    "plt.hist(df.pt_by_app)"
   ]
  },
  {
   "cell_type": "code",
   "execution_count": 26,
   "metadata": {},
   "outputs": [
    {
     "data": {
      "text/plain": [
       "(array([187558.,  88845.,  65954.,  54240.,  48376.,  44979.,  43050.,\n",
       "         41327.,  40953.,  41558.]),\n",
       " array([1.51018621e-05, 5.00131271e-02, 1.00011152e-01, 1.50009177e-01,\n",
       "        2.00007203e-01, 2.50005228e-01, 3.00003253e-01, 3.50001278e-01,\n",
       "        3.99999304e-01, 4.49997329e-01, 4.99995354e-01]),\n",
       " <a list of 10 Patch objects>)"
      ]
     },
     "execution_count": 26,
     "metadata": {},
     "output_type": "execute_result"
    },
    {
     "data": {
      "image/png": "[encoded data removed]",
      "text/plain": [
       "<Figure size 432x288 with 1 Axes>"
      ]
     },
     "metadata": {
      "needs_background": "light"
     },
     "output_type": "display_data"
    }
   ],
   "source": [
    "plt.hist(df[df.pt_by_app < .5].pt_by_app)"
   ]
  },
  {
   "cell_type": "markdown",
   "metadata": {},
   "source": [
    "We need to remove the games that have been played by less users. "
   ]
  },
  {
   "cell_type": "code",
   "execution_count": 27,
   "metadata": {},
   "outputs": [
    {
     "data": {
      "text/plain": [
       "steamID\n",
       "76561198017851315    11476\n",
       "76561197971026489     8627\n",
       "76561197995008105     7706\n",
       "76561198026221141     7680\n",
       "76561197965978376     7489\n",
       "76561198037867621     7486\n",
       "76561198025653291     6855\n",
       "76561198019466684     6613\n",
       "76561198002555892     6509\n",
       "76561197974679102     6461\n",
       "Name: appID, dtype: int64"
      ]
     },
     "execution_count": 27,
     "metadata": {},
     "output_type": "execute_result"
    }
   ],
   "source": [
    "df.groupby('steamID').appID.nunique().sort_values(ascending = False)[:10]"
   ]
  },
  {
   "cell_type": "code",
   "execution_count": 28,
   "metadata": {},
   "outputs": [
    {
     "data": {
      "text/plain": [
       "5978"
      ]
     },
     "execution_count": 28,
     "metadata": {},
     "output_type": "execute_result"
    }
   ],
   "source": [
    "sum(df.groupby('steamID').appID.nunique() > 1)"
   ]
  },
  {
   "cell_type": "code",
   "execution_count": 88,
   "metadata": {},
   "outputs": [
    {
     "data": {
      "text/plain": [
       "13750"
      ]
     },
     "execution_count": 88,
     "metadata": {},
     "output_type": "execute_result"
    }
   ],
   "source": [
    "sum(df.groupby('appID').steamID.nunique() > 5)"
   ]
  },
  {
   "cell_type": "code",
   "execution_count": 89,
   "metadata": {},
   "outputs": [
    {
     "data": {
      "text/plain": [
       "5593"
      ]
     },
     "execution_count": 89,
     "metadata": {},
     "output_type": "execute_result"
    }
   ],
   "source": [
    "sum(df.groupby('steamID').appID.nunique() > 5)"
   ]
  },
  {
   "cell_type": "code",
   "execution_count": 87,
   "metadata": {},
   "outputs": [
    {
     "data": {
      "text/html": [
       "<div>\n",
       "<style scoped>\n",
       "    .dataframe tbody tr th:only-of-type {\n",
       "        vertical-align: middle;\n",
       "    }\n",
       "\n",
       "    .dataframe tbody tr th {\n",
       "        vertical-align: top;\n",
       "    }\n",
       "\n",
       "    .dataframe thead th {\n",
       "        text-align: right;\n",
       "    }\n",
       "</style>\n",
       "<table border=\"1\" class=\"dataframe\">\n",
       "  <thead>\n",
       "    <tr style=\"text-align: right;\">\n",
       "      <th></th>\n",
       "      <th>steamID</th>\n",
       "      <th>appID</th>\n",
       "      <th>playtime</th>\n",
       "      <th>pt_by_app</th>\n",
       "      <th>pt_by_user</th>\n",
       "      <th>rating</th>\n",
       "      <th>fixfix</th>\n",
       "    </tr>\n",
       "  </thead>\n",
       "  <tbody>\n",
       "    <tr>\n",
       "      <th>0</th>\n",
       "      <td>76561198015016293</td>\n",
       "      <td>3910</td>\n",
       "      <td>1952</td>\n",
       "      <td>4.442400</td>\n",
       "      <td>5.707602</td>\n",
       "      <td>25.355453</td>\n",
       "      <td>10.00</td>\n",
       "    </tr>\n",
       "    <tr>\n",
       "      <th>1</th>\n",
       "      <td>76561198015016293</td>\n",
       "      <td>13230</td>\n",
       "      <td>252</td>\n",
       "      <td>0.803394</td>\n",
       "      <td>0.736842</td>\n",
       "      <td>0.591975</td>\n",
       "      <td>10.00</td>\n",
       "    </tr>\n",
       "    <tr>\n",
       "      <th>2</th>\n",
       "      <td>76561198015016293</td>\n",
       "      <td>12320</td>\n",
       "      <td>1137</td>\n",
       "      <td>1.530854</td>\n",
       "      <td>3.324561</td>\n",
       "      <td>5.089417</td>\n",
       "      <td>10.00</td>\n",
       "    </tr>\n",
       "    <tr>\n",
       "      <th>3</th>\n",
       "      <td>76561198015016293</td>\n",
       "      <td>24740</td>\n",
       "      <td>59</td>\n",
       "      <td>0.140930</td>\n",
       "      <td>0.172515</td>\n",
       "      <td>0.024312</td>\n",
       "      <td>2.36</td>\n",
       "    </tr>\n",
       "    <tr>\n",
       "      <th>4</th>\n",
       "      <td>76561198015016293</td>\n",
       "      <td>8980</td>\n",
       "      <td>4132</td>\n",
       "      <td>1.816186</td>\n",
       "      <td>12.081871</td>\n",
       "      <td>21.942921</td>\n",
       "      <td>10.00</td>\n",
       "    </tr>\n",
       "  </tbody>\n",
       "</table>\n",
       "</div>"
      ],
      "text/plain": [
       "             steamID  appID  playtime  pt_by_app  pt_by_user     rating  \\\n",
       "0  76561198015016293   3910      1952   4.442400    5.707602  25.355453   \n",
       "1  76561198015016293  13230       252   0.803394    0.736842   0.591975   \n",
       "2  76561198015016293  12320      1137   1.530854    3.324561   5.089417   \n",
       "3  76561198015016293  24740        59   0.140930    0.172515   0.024312   \n",
       "4  76561198015016293   8980      4132   1.816186   12.081871  21.942921   \n",
       "\n",
       "   fixfix  \n",
       "0   10.00  \n",
       "1   10.00  \n",
       "2   10.00  \n",
       "3    2.36  \n",
       "4   10.00  "
      ]
     },
     "execution_count": 87,
     "metadata": {},
     "output_type": "execute_result"
    }
   ],
   "source": [
    "df.head()"
   ]
  },
  {
   "cell_type": "code",
   "execution_count": 30,
   "metadata": {},
   "outputs": [
    {
     "data": {
      "text/plain": [
       "5251"
      ]
     },
     "execution_count": 30,
     "metadata": {},
     "output_type": "execute_result"
    }
   ],
   "source": [
    "sum(df.groupby('steamID').appID.nunique() > 10)"
   ]
  },
  {
   "cell_type": "code",
   "execution_count": 31,
   "metadata": {},
   "outputs": [],
   "source": [
    "user_games = df.groupby('steamID').appID.nunique().sort_values(ascending = False)"
   ]
  },
  {
   "cell_type": "code",
   "execution_count": 32,
   "metadata": {},
   "outputs": [
    {
     "data": {
      "text/plain": [
       "(array([5.927e+03, 9.300e+01, 3.800e+01, 8.000e+00, 1.400e+01, 6.000e+00,\n",
       "        4.000e+00, 1.000e+00, 0.000e+00, 1.000e+00]),\n",
       " array([1.00000e+00, 1.14850e+03, 2.29600e+03, 3.44350e+03, 4.59100e+03,\n",
       "        5.73850e+03, 6.88600e+03, 8.03350e+03, 9.18100e+03, 1.03285e+04,\n",
       "        1.14760e+04]),\n",
       " <a list of 10 Patch objects>)"
      ]
     },
     "execution_count": 32,
     "metadata": {},
     "output_type": "execute_result"
    },
    {
     "data": {
      "image/png": "[encoded data removed]",
      "text/plain": [
       "<Figure size 432x288 with 1 Axes>"
      ]
     },
     "metadata": {
      "needs_background": "light"
     },
     "output_type": "display_data"
    }
   ],
   "source": [
    "plt.hist(user_games)"
   ]
  },
  {
   "cell_type": "code",
   "execution_count": 33,
   "metadata": {},
   "outputs": [
    {
     "data": {
      "image/png": "[encoded data removed]",
      "text/plain": [
       "<Figure size 432x288 with 1 Axes>"
      ]
     },
     "metadata": {
      "needs_background": "light"
     },
     "output_type": "display_data"
    }
   ],
   "source": [
    "plt.hist(df.rating)\n",
    "plt.yscale('log')\n",
    "plt.show()"
   ]
  },
  {
   "cell_type": "code",
   "execution_count": 59,
   "metadata": {},
   "outputs": [],
   "source": [
    "yeeter = df.groupby('appID').count()['steamID']"
   ]
  },
  {
   "cell_type": "code",
   "execution_count": 62,
   "metadata": {},
   "outputs": [],
   "source": [
    "yeeter2 = yeeter[yeeter > 5]"
   ]
  },
  {
   "cell_type": "code",
   "execution_count": 63,
   "metadata": {},
   "outputs": [],
   "source": [
    "blah = df.join(yeeter2, how='left', on='appID', rsuffix='_yeet')"
   ]
  },
  {
   "cell_type": "code",
   "execution_count": 64,
   "metadata": {},
   "outputs": [
    {
     "data": {
      "text/html": [
       "<div>\n",
       "<style scoped>\n",
       "    .dataframe tbody tr th:only-of-type {\n",
       "        vertical-align: middle;\n",
       "    }\n",
       "\n",
       "    .dataframe tbody tr th {\n",
       "        vertical-align: top;\n",
       "    }\n",
       "\n",
       "    .dataframe thead th {\n",
       "        text-align: right;\n",
       "    }\n",
       "</style>\n",
       "<table border=\"1\" class=\"dataframe\">\n",
       "  <thead>\n",
       "    <tr style=\"text-align: right;\">\n",
       "      <th></th>\n",
       "      <th>steamID</th>\n",
       "      <th>appID</th>\n",
       "      <th>playtime</th>\n",
       "      <th>pt_by_app</th>\n",
       "      <th>pt_by_user</th>\n",
       "      <th>rating</th>\n",
       "      <th>steamID_yeet</th>\n",
       "    </tr>\n",
       "  </thead>\n",
       "  <tbody>\n",
       "    <tr>\n",
       "      <th>95944</th>\n",
       "      <td>76561197960667971</td>\n",
       "      <td>1210</td>\n",
       "      <td>369</td>\n",
       "      <td>1.994595</td>\n",
       "      <td>2.963855</td>\n",
       "      <td>5.911690</td>\n",
       "      <td>NaN</td>\n",
       "    </tr>\n",
       "    <tr>\n",
       "      <th>533351</th>\n",
       "      <td>76561197963550511</td>\n",
       "      <td>1210</td>\n",
       "      <td>1</td>\n",
       "      <td>0.005405</td>\n",
       "      <td>0.009434</td>\n",
       "      <td>0.000051</td>\n",
       "      <td>NaN</td>\n",
       "    </tr>\n",
       "  </tbody>\n",
       "</table>\n",
       "</div>"
      ],
      "text/plain": [
       "                  steamID  appID  playtime  pt_by_app  pt_by_user    rating  \\\n",
       "95944   76561197960667971   1210       369   1.994595    2.963855  5.911690   \n",
       "533351  76561197963550511   1210         1   0.005405    0.009434  0.000051   \n",
       "\n",
       "        steamID_yeet  \n",
       "95944            NaN  \n",
       "533351           NaN  "
      ]
     },
     "execution_count": 64,
     "metadata": {},
     "output_type": "execute_result"
    }
   ],
   "source": [
    "blah[blah.appID == 1210]"
   ]
  },
  {
   "cell_type": "code",
   "execution_count": 65,
   "metadata": {},
   "outputs": [],
   "source": [
    "blah = blah.dropna()\n",
    "blah = blah.drop(['steamID_yeet'], axis = 1)"
   ]
  },
  {
   "cell_type": "code",
   "execution_count": null,
   "metadata": {},
   "outputs": [],
   "source": [
    "app_total_playtime = df.groupby('appID').playtime.mean()\n",
    "df_fix = df.join(app_total_playtime, how='left', on='appID', rsuffix='a_')\n",
    "df['pt_by_app'] = df_fix.playtime /df_fix.playtimea_\n",
    "\n",
    "user_total_playtime = df.groupby('steamID').playtime.mean()\n",
    "df_fix = df.join(user_total_playtime, how='left', on = 'steamID', rsuffix='a_')\n",
    "df['pt_by_user'] = df_fix.playtime / df_fix.playtimea_\n",
    "\n",
    "df['rating'] = df['pt_by_app'] * df['pt_by_user']\n",
    "df['rating_fix'] = ((df.rating - df.rating.min()) / df.rating.max()) * 10.0\n",
    "\n",
    "df['ten'] = 1 + (df.rating - df.rating.min()) * 9.0 / (df.rating.max() - df.rating.min())"
   ]
  },
  {
   "cell_type": "code",
   "execution_count": 70,
   "metadata": {},
   "outputs": [],
   "source": [
    "atp = df.groupby('appID').playtime.median()"
   ]
  },
  {
   "cell_type": "code",
   "execution_count": 72,
   "metadata": {},
   "outputs": [],
   "source": [
    "df_fix = df.join(atp, how='left', on='appID', rsuffix='_m')"
   ]
  },
  {
   "cell_type": "code",
   "execution_count": 75,
   "metadata": {},
   "outputs": [],
   "source": [
    "df['fixfix'] = (df_fix.playtime / df_fix.playtime_m) * 5.0"
   ]
  },
  {
   "cell_type": "code",
   "execution_count": 79,
   "metadata": {},
   "outputs": [],
   "source": [
    "df.loc[df.fixfix > 10, 'fixfix'] = 10"
   ]
  },
  {
   "cell_type": "code",
   "execution_count": 82,
   "metadata": {},
   "outputs": [
    {
     "data": {
      "text/plain": [
       "(array([197975., 110220., 116133., 111503., 144959., 115095.,  77343.,\n",
       "         57462.,  44289., 364406.]),\n",
       " array([2.59598660e-04, 1.00023364e+00, 2.00020768e+00, 3.00018172e+00,\n",
       "        4.00015576e+00, 5.00012980e+00, 6.00010384e+00, 7.00007788e+00,\n",
       "        8.00005192e+00, 9.00002596e+00, 1.00000000e+01]),\n",
       " <a list of 10 Patch objects>)"
      ]
     },
     "execution_count": 82,
     "metadata": {},
     "output_type": "execute_result"
    },
    {
     "data": {
      "image/png": "[encoded data removed]",
      "text/plain": [
       "<Figure size 432x288 with 1 Axes>"
      ]
     },
     "metadata": {
      "needs_background": "light"
     },
     "output_type": "display_data"
    }
   ],
   "source": [
    "plt.hist(df.fixfix)"
   ]
  },
  {
   "cell_type": "code",
   "execution_count": null,
   "metadata": {},
   "outputs": [],
   "source": []
  }
 ],
 "metadata": {
  "kernelspec": {
   "display_name": "Python 3",
   "language": "python",
   "name": "python3"
  },
  "language_info": {
   "codemirror_mode": {
    "name": "ipython",
    "version": 3
   },
   "file_extension": ".py",
   "mimetype": "text/x-python",
   "name": "python",
   "nbconvert_exporter": "python",
   "pygments_lexer": "ipython3",
   "version": "3.7.3"
  }
 },
 "nbformat": 4,
 "nbformat_minor": 2
}
