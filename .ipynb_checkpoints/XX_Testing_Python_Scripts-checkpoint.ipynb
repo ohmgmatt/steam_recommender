{
 "cells": [
  {
   "cell_type": "code",
   "execution_count": 1,
   "metadata": {},
   "outputs": [],
   "source": [
    "import pandas as pd\n",
    "\n",
    "import requests\n",
    "import json\n",
    "\n",
    "from pprint import pprint\n",
    "\n",
    "import sqlite3\n",
    "\n",
    "import time\n",
    "\n",
    "import config"
   ]
  },
  {
   "cell_type": "code",
   "execution_count": 2,
   "metadata": {},
   "outputs": [],
   "source": [
    "## Static\n",
    "\n",
    "API_KEY = config.API_KEY\n",
    "BASE_URL = 'http://api.steampowered.com/'\n",
    "status = 200"
   ]
  },
  {
   "cell_type": "code",
   "execution_count": 3,
   "metadata": {},
   "outputs": [],
   "source": [
    "def steamFriends(steamid):\n",
    "    \n",
    "    time.sleep(2)\n",
    "    ## Establish the URL\n",
    "    friend_url = ''.join([BASE_URL,\n",
    "        'ISteamUser/GetFriendList/v0001/?key=',API_KEY,\n",
    "        '&steamid=',str(steamid),\n",
    "        '&relationship=friend'])\n",
    "    \n",
    "    ## Setting connection to DB\n",
    "    conn = sqlite3.connect('steam.db')\n",
    "    c = conn.cursor()\n",
    "    \n",
    "    ## Pull from using API\n",
    "    r = requests.get(friend_url)\n",
    "    \n",
    "    if r.status_code != 200:\n",
    "        return r.status_code\n",
    "    \n",
    "    content = json.loads(r.content)\n",
    "    \n",
    "    if 'friendslist' not in content:\n",
    "        return 200\n",
    "    \n",
    "    for i in content['friendslist']['friends']:\n",
    "        sid = int(i['steamid'])\n",
    "        \n",
    "        c.execute('SELECT * FROM parse_id WHERE id = ? UNION SELECT * FROM finished_id WHERE id = ?', (sid,sid))\n",
    "        rows = c.fetchall()\n",
    "        \n",
    "        if len(rows) == 0:\n",
    "            insert = \"INSERT INTO parse_id VALUES (\" + str(sid) + \")\"\n",
    "            c.execute(insert)\n",
    "            \n",
    "        else:\n",
    "            continue\n",
    "            \n",
    "    conn.commit()\n",
    "    \n",
    "    conn.close()\n",
    "    return 200"
   ]
  },
  {
   "cell_type": "code",
   "execution_count": 14,
   "metadata": {},
   "outputs": [],
   "source": [
    "def steamGames(steamid):\n",
    "    \n",
    "    time.sleep(2)\n",
    "    ## Establish the URL\n",
    "    game_url = ''.join([BASE_URL, \n",
    "                      'IPlayerService/GetOwnedGames/v0001/?key=',API_KEY,\n",
    "                      '&steamid=',str(steamid),\n",
    "                      '&format=json'])\n",
    "    \n",
    "    ## Setting connection to DB\n",
    "    conn = sqlite3.connect('steam.db')\n",
    "    c = conn.cursor()\n",
    "    \n",
    "    ## Pulling from API\n",
    "    r = requests.get(game_url)\n",
    "    \n",
    "    if r.status_code != 200:\n",
    "        return r.status_code\n",
    "    \n",
    "    content = json.loads(r.content)\n",
    "    \n",
    "    if content['response'] == {}:\n",
    "        return 200\n",
    "    \n",
    "    games = content['response']['games']\n",
    "    for g in games:\n",
    "        appid = g['appid']\n",
    "        playtime = g['playtime_forever']\n",
    "        if playtime == 0:\n",
    "            continue\n",
    "        \n",
    "        row = [steamid, appid, playtime]\n",
    "        \n",
    "        c.execute(\"INSERT INTO gameplay (steamID, appID, playtime) VALUES (?,?,?);\", row)\n",
    "        \n",
    "    conn.commit()\n",
    "    \n",
    "    conn.close()\n",
    "    \n",
    "    return 200"
   ]
  },
  {
   "cell_type": "code",
   "execution_count": 20,
   "metadata": {},
   "outputs": [],
   "source": [
    "steamid = 76561198064781699\n",
    "game_url = ''.join([BASE_URL, \n",
    "                      'IPlayerService/GetOwnedGames/v0001/?key=',API_KEY,\n",
    "                      '&steamid=',str(steamid),\n",
    "                      '&format=json'])\n",
    "\n",
    "r = requests.get(game_url)"
   ]
  },
  {
   "cell_type": "code",
   "execution_count": 21,
   "metadata": {},
   "outputs": [
    {
     "data": {
      "text/plain": [
       "200"
      ]
     },
     "execution_count": 21,
     "metadata": {},
     "output_type": "execute_result"
    }
   ],
   "source": [
    "r.status_code"
   ]
  },
  {
   "cell_type": "code",
   "execution_count": 22,
   "metadata": {},
   "outputs": [],
   "source": [
    "content = json.loads(r.content)"
   ]
  },
  {
   "cell_type": "code",
   "execution_count": 29,
   "metadata": {},
   "outputs": [
    {
     "name": "stdout",
     "output_type": "stream",
     "text": [
      "{'response': {'game_count': 76, 'games': [{'appid': 400, 'playtime_forever': 23, 'playtime_windows_forever': 0, 'playtime_mac_forever': 0, 'playtime_linux_forever': 0}, {'appid': 70100, 'playtime_forever': 339, 'playtime_windows_forever': 0, 'playtime_mac_forever': 0, 'playtime_linux_forever': 0}, {'appid': 47810, 'playtime_forever': 0, 'playtime_windows_forever': 0, 'playtime_mac_forever': 0, 'playtime_linux_forever': 0}, {'appid': 620, 'playtime_forever': 0, 'playtime_windows_forever': 0, 'playtime_mac_forever': 0, 'playtime_linux_forever': 0}, {'appid': 205790, 'playtime_forever': 0, 'playtime_windows_forever': 0, 'playtime_mac_forever': 0, 'playtime_linux_forever': 0}, {'appid': 204360, 'playtime_forever': 142, 'playtime_windows_forever': 0, 'playtime_mac_forever': 0, 'playtime_linux_forever': 0}, {'appid': 230410, 'playtime_forever': 0, 'playtime_windows_forever': 0, 'playtime_mac_forever': 0, 'playtime_linux_forever': 0}, {'appid': 239030, 'playtime_forever': 83, 'playtime_windows_forever': 0, 'playtime_mac_forever': 0, 'playtime_linux_forever': 0}, {'appid': 252110, 'playtime_forever': 148, 'playtime_windows_forever': 0, 'playtime_mac_forever': 0, 'playtime_linux_forever': 0}, {'appid': 254320, 'playtime_forever': 0, 'playtime_windows_forever': 0, 'playtime_mac_forever': 0, 'playtime_linux_forever': 0}, {'appid': 8930, 'playtime_forever': 19, 'playtime_windows_forever': 0, 'playtime_mac_forever': 0, 'playtime_linux_forever': 0}, {'appid': 238460, 'playtime_forever': 0, 'playtime_windows_forever': 0, 'playtime_mac_forever': 0, 'playtime_linux_forever': 0}, {'appid': 238090, 'playtime_forever': 12, 'playtime_windows_forever': 0, 'playtime_mac_forever': 0, 'playtime_linux_forever': 0}, {'appid': 323850, 'playtime_forever': 0, 'playtime_windows_forever': 0, 'playtime_mac_forever': 0, 'playtime_linux_forever': 0}, {'appid': 327690, 'playtime_forever': 55, 'playtime_windows_forever': 0, 'playtime_mac_forever': 0, 'playtime_linux_forever': 0}, {'appid': 334940, 'playtime_forever': 0, 'playtime_windows_forever': 0, 'playtime_mac_forever': 0, 'playtime_linux_forever': 0}, {'appid': 298630, 'playtime_forever': 8, 'playtime_windows_forever': 0, 'playtime_mac_forever': 0, 'playtime_linux_forever': 0}, {'appid': 255710, 'playtime_forever': 871, 'playtime_windows_forever': 0, 'playtime_mac_forever': 0, 'playtime_linux_forever': 0}, {'appid': 359100, 'playtime_forever': 0, 'playtime_windows_forever': 0, 'playtime_mac_forever': 0, 'playtime_linux_forever': 0}, {'appid': 363600, 'playtime_forever': 190, 'playtime_windows_forever': 0, 'playtime_mac_forever': 0, 'playtime_linux_forever': 0}, {'appid': 365450, 'playtime_forever': 261, 'playtime_windows_forever': 261, 'playtime_mac_forever': 0, 'playtime_linux_forever': 0}, {'appid': 243970, 'playtime_forever': 58, 'playtime_windows_forever': 0, 'playtime_mac_forever': 0, 'playtime_linux_forever': 0}, {'appid': 375460, 'playtime_forever': 37, 'playtime_windows_forever': 0, 'playtime_mac_forever': 0, 'playtime_linux_forever': 0}, {'appid': 378860, 'playtime_forever': 0, 'playtime_windows_forever': 0, 'playtime_mac_forever': 0, 'playtime_linux_forever': 0}, {'appid': 396350, 'playtime_forever': 0, 'playtime_windows_forever': 0, 'playtime_mac_forever': 0, 'playtime_linux_forever': 0}, {'appid': 396710, 'playtime_forever': 0, 'playtime_windows_forever': 0, 'playtime_mac_forever': 0, 'playtime_linux_forever': 0}, {'appid': 377900, 'playtime_forever': 351, 'playtime_windows_forever': 0, 'playtime_mac_forever': 0, 'playtime_linux_forever': 0}, {'appid': 407120, 'playtime_forever': 0, 'playtime_windows_forever': 0, 'playtime_mac_forever': 0, 'playtime_linux_forever': 0}, {'appid': 413150, 'playtime_forever': 577, 'playtime_windows_forever': 0, 'playtime_mac_forever': 0, 'playtime_linux_forever': 0}, {'appid': 416600, 'playtime_forever': 17, 'playtime_windows_forever': 0, 'playtime_mac_forever': 0, 'playtime_linux_forever': 0}, {'appid': 429790, 'playtime_forever': 0, 'playtime_windows_forever': 0, 'playtime_mac_forever': 0, 'playtime_linux_forever': 0}, {'appid': 434460, 'playtime_forever': 0, 'playtime_windows_forever': 0, 'playtime_mac_forever': 0, 'playtime_linux_forever': 0}, {'appid': 445980, 'playtime_forever': 53, 'playtime_windows_forever': 0, 'playtime_mac_forever': 0, 'playtime_linux_forever': 0}, {'appid': 448510, 'playtime_forever': 2255, 'playtime_windows_forever': 0, 'playtime_mac_forever': 0, 'playtime_linux_forever': 0}, {'appid': 453910, 'playtime_forever': 0, 'playtime_windows_forever': 0, 'playtime_mac_forever': 0, 'playtime_linux_forever': 0}, {'appid': 454060, 'playtime_forever': 213, 'playtime_windows_forever': 0, 'playtime_mac_forever': 0, 'playtime_linux_forever': 0}, {'appid': 368390, 'playtime_forever': 724, 'playtime_windows_forever': 0, 'playtime_mac_forever': 0, 'playtime_linux_forever': 0}, {'appid': 457140, 'playtime_forever': 3, 'playtime_windows_forever': 0, 'playtime_mac_forever': 0, 'playtime_linux_forever': 0}, {'appid': 464920, 'playtime_forever': 0, 'playtime_windows_forever': 0, 'playtime_mac_forever': 0, 'playtime_linux_forever': 0}, {'appid': 466560, 'playtime_forever': 0, 'playtime_windows_forever': 0, 'playtime_mac_forever': 0, 'playtime_linux_forever': 0}, {'appid': 377160, 'playtime_forever': 1485, 'playtime_windows_forever': 0, 'playtime_mac_forever': 0, 'playtime_linux_forever': 0}, {'appid': 470780, 'playtime_forever': 0, 'playtime_windows_forever': 0, 'playtime_mac_forever': 0, 'playtime_linux_forever': 0}, {'appid': 361230, 'playtime_forever': 0, 'playtime_windows_forever': 0, 'playtime_mac_forever': 0, 'playtime_linux_forever': 0}, {'appid': 499890, 'playtime_forever': 0, 'playtime_windows_forever': 0, 'playtime_mac_forever': 0, 'playtime_linux_forever': 0}, {'appid': 503560, 'playtime_forever': 31, 'playtime_windows_forever': 31, 'playtime_mac_forever': 0, 'playtime_linux_forever': 0}, {'appid': 505730, 'playtime_forever': 0, 'playtime_windows_forever': 0, 'playtime_mac_forever': 0, 'playtime_linux_forever': 0}, {'appid': 514900, 'playtime_forever': 0, 'playtime_windows_forever': 0, 'playtime_mac_forever': 0, 'playtime_linux_forever': 0}, {'appid': 530320, 'playtime_forever': 0, 'playtime_windows_forever': 0, 'playtime_mac_forever': 0, 'playtime_linux_forever': 0}, {'appid': 337340, 'playtime_forever': 52, 'playtime_windows_forever': 0, 'playtime_mac_forever': 0, 'playtime_linux_forever': 0}, {'appid': 493340, 'playtime_forever': 1018, 'playtime_windows_forever': 1, 'playtime_mac_forever': 0, 'playtime_linux_forever': 0}, {'appid': 564710, 'playtime_forever': 3676, 'playtime_windows_forever': 0, 'playtime_mac_forever': 0, 'playtime_linux_forever': 0}, {'appid': 569480, 'playtime_forever': 572, 'playtime_windows_forever': 567, 'playtime_mac_forever': 0, 'playtime_linux_forever': 0}, {'appid': 574090, 'playtime_forever': 0, 'playtime_windows_forever': 0, 'playtime_mac_forever': 0, 'playtime_linux_forever': 0}, {'appid': 579760, 'playtime_forever': 0, 'playtime_windows_forever': 0, 'playtime_mac_forever': 0, 'playtime_linux_forever': 0}, {'appid': 606150, 'playtime_forever': 0, 'playtime_windows_forever': 0, 'playtime_mac_forever': 0, 'playtime_linux_forever': 0}, {'appid': 609490, 'playtime_forever': 0, 'playtime_windows_forever': 0, 'playtime_mac_forever': 0, 'playtime_linux_forever': 0}, {'appid': 633460, 'playtime_forever': 0, 'playtime_windows_forever': 0, 'playtime_mac_forever': 0, 'playtime_linux_forever': 0}, {'appid': 646270, 'playtime_forever': 0, 'playtime_windows_forever': 0, 'playtime_mac_forever': 0, 'playtime_linux_forever': 0}, {'appid': 646570, 'playtime_forever': 0, 'playtime_windows_forever': 0, 'playtime_mac_forever': 0, 'playtime_linux_forever': 0}, {'appid': 658850, 'playtime_forever': 73, 'playtime_windows_forever': 0, 'playtime_mac_forever': 0, 'playtime_linux_forever': 0}, {'appid': 664320, 'playtime_forever': 0, 'playtime_windows_forever': 0, 'playtime_mac_forever': 0, 'playtime_linux_forever': 0}, {'appid': 674940, 'playtime_forever': 1, 'playtime_windows_forever': 0, 'playtime_mac_forever': 0, 'playtime_linux_forever': 0}, {'appid': 680360, 'playtime_forever': 0, 'playtime_windows_forever': 0, 'playtime_mac_forever': 0, 'playtime_linux_forever': 0}, {'appid': 686600, 'playtime_forever': 0, 'playtime_windows_forever': 0, 'playtime_mac_forever': 0, 'playtime_linux_forever': 0}, {'appid': 414340, 'playtime_forever': 0, 'playtime_windows_forever': 0, 'playtime_mac_forever': 0, 'playtime_linux_forever': 0}, {'appid': 747350, 'playtime_forever': 0, 'playtime_windows_forever': 0, 'playtime_mac_forever': 0, 'playtime_linux_forever': 0}, {'appid': 535480, 'playtime_forever': 31, 'playtime_windows_forever': 0, 'playtime_mac_forever': 0, 'playtime_linux_forever': 0}, {'appid': 743450, 'playtime_forever': 37, 'playtime_windows_forever': 0, 'playtime_mac_forever': 0, 'playtime_linux_forever': 0}, {'appid': 758190, 'playtime_forever': 0, 'playtime_windows_forever': 0, 'playtime_mac_forever': 0, 'playtime_linux_forever': 0}, {'appid': 802450, 'playtime_forever': 0, 'playtime_windows_forever': 0, 'playtime_mac_forever': 0, 'playtime_linux_forever': 0}, {'appid': 826600, 'playtime_forever': 0, 'playtime_windows_forever': 0, 'playtime_mac_forever': 0, 'playtime_linux_forever': 0}, {'appid': 868360, 'playtime_forever': 1685, 'playtime_windows_forever': 0, 'playtime_mac_forever': 0, 'playtime_linux_forever': 0}, {'appid': 718670, 'playtime_forever': 12, 'playtime_windows_forever': 0, 'playtime_mac_forever': 0, 'playtime_linux_forever': 0}, {'appid': 638970, 'playtime_forever': 0, 'playtime_windows_forever': 0, 'playtime_mac_forever': 0, 'playtime_linux_forever': 0}, {'appid': 703880, 'playtime_forever': 0, 'playtime_windows_forever': 0, 'playtime_mac_forever': 0, 'playtime_linux_forever': 0}, {'appid': 225540, 'playtime_forever': 0, 'playtime_windows_forever': 0, 'playtime_mac_forever': 0, 'playtime_linux_forever': 0}]}}\n"
     ]
    }
   ],
   "source": [
    "print(content)"
   ]
  },
  {
   "cell_type": "code",
   "execution_count": 24,
   "metadata": {},
   "outputs": [],
   "source": [
    "if content['response'] == {}:\n",
    "    print('yeet')"
   ]
  },
  {
   "cell_type": "code",
   "execution_count": 28,
   "metadata": {},
   "outputs": [
    {
     "name": "stdout",
     "output_type": "stream",
     "text": [
      "yeeter\n"
     ]
    }
   ],
   "source": [
    "if 'games' in content['response']:\n",
    "    print('yeeter')"
   ]
  },
  {
   "cell_type": "code",
   "execution_count": 15,
   "metadata": {
    "scrolled": true
   },
   "outputs": [
    {
     "ename": "KeyboardInterrupt",
     "evalue": "",
     "output_type": "error",
     "traceback": [
      "\u001b[0;31m---------------------------------------------------------------------------\u001b[0m",
      "\u001b[0;31mKeyboardInterrupt\u001b[0m                         Traceback (most recent call last)",
      "\u001b[0;32m<ipython-input-15-7f4e0b06d702>\u001b[0m in \u001b[0;36m<module>\u001b[0;34m\u001b[0m\n\u001b[1;32m     27\u001b[0m     \u001b[0mconn\u001b[0m\u001b[0;34m.\u001b[0m\u001b[0mclose\u001b[0m\u001b[0;34m(\u001b[0m\u001b[0;34m)\u001b[0m\u001b[0;34m\u001b[0m\u001b[0;34m\u001b[0m\u001b[0m\n\u001b[1;32m     28\u001b[0m \u001b[0;34m\u001b[0m\u001b[0m\n\u001b[0;32m---> 29\u001b[0;31m     \u001b[0mstatus\u001b[0m \u001b[0;34m=\u001b[0m \u001b[0msteamFriends\u001b[0m\u001b[0;34m(\u001b[0m\u001b[0msteamID\u001b[0m\u001b[0;34m)\u001b[0m\u001b[0;34m\u001b[0m\u001b[0;34m\u001b[0m\u001b[0m\n\u001b[0m\u001b[1;32m     30\u001b[0m \u001b[0;34m\u001b[0m\u001b[0m\n\u001b[1;32m     31\u001b[0m     \u001b[0mstatus\u001b[0m \u001b[0;34m=\u001b[0m \u001b[0msteamGames\u001b[0m\u001b[0;34m(\u001b[0m\u001b[0msteamID\u001b[0m\u001b[0;34m)\u001b[0m\u001b[0;34m\u001b[0m\u001b[0;34m\u001b[0m\u001b[0m\n",
      "\u001b[0;32m<ipython-input-13-cfa645afeaa3>\u001b[0m in \u001b[0;36msteamFriends\u001b[0;34m(steamid)\u001b[0m\n\u001b[1;32m      1\u001b[0m \u001b[0;32mdef\u001b[0m \u001b[0msteamFriends\u001b[0m\u001b[0;34m(\u001b[0m\u001b[0msteamid\u001b[0m\u001b[0;34m)\u001b[0m\u001b[0;34m:\u001b[0m\u001b[0;34m\u001b[0m\u001b[0;34m\u001b[0m\u001b[0m\n\u001b[1;32m      2\u001b[0m \u001b[0;34m\u001b[0m\u001b[0m\n\u001b[0;32m----> 3\u001b[0;31m     \u001b[0mtime\u001b[0m\u001b[0;34m.\u001b[0m\u001b[0msleep\u001b[0m\u001b[0;34m(\u001b[0m\u001b[0;36m2\u001b[0m\u001b[0;34m)\u001b[0m\u001b[0;34m\u001b[0m\u001b[0;34m\u001b[0m\u001b[0m\n\u001b[0m\u001b[1;32m      4\u001b[0m     \u001b[0;31m## Establish the URL\u001b[0m\u001b[0;34m\u001b[0m\u001b[0;34m\u001b[0m\u001b[0;34m\u001b[0m\u001b[0m\n\u001b[1;32m      5\u001b[0m     friend_url = ''.join([BASE_URL,\n",
      "\u001b[0;31mKeyboardInterrupt\u001b[0m: "
     ]
    }
   ],
   "source": [
    "status = 200\n",
    "\n",
    "while status == 200:\n",
    "    time.sleep(2)\n",
    "    conn = sqlite3.connect('steam.db')\n",
    "    c = conn.cursor()\n",
    "    \n",
    "    ## Pull ID\n",
    "    c.execute(\"SELECT id FROM parse_id LIMIT 1\")\n",
    "    steamID = c.fetchone()[0]\n",
    "    \n",
    "    ## Insert ID\n",
    "    check = \"SELECT * FROM finished_id WHERE id = \"+str(steamID)\n",
    "    c.execute(check)\n",
    "    rows = c.fetchall()\n",
    "    \n",
    "    if len(rows) == 0:\n",
    "        insert = 'INSERT INTO finished_id VALUES ('+str(steamID)+')'\n",
    "        c.execute(insert)\n",
    "        \n",
    "    ## Delete ID\n",
    "    delete = 'DELETE FROM parse_id WHERE id = '+str(steamID)\n",
    "    c.execute(delete)\n",
    "    \n",
    "    conn.commit()\n",
    "    \n",
    "    conn.close()\n",
    "    \n",
    "    status = steamFriends(steamID)\n",
    "    \n",
    "    status = steamGames(steamID)\n",
    "    \n",
    "    if status != 200:\n",
    "        print(status)"
   ]
  },
  {
   "cell_type": "code",
   "execution_count": 5,
   "metadata": {},
   "outputs": [
    {
     "name": "stdout",
     "output_type": "stream",
     "text": [
      "[(76561197994871291,), (76561198011799158,), (76561198104062560,), (76561198015016293,), (76561197964165126,), (76561197960435530,), (76561197968292158,), (76561198022003287,), (76561197970953718,), (76561197970858434,)]\n"
     ]
    }
   ],
   "source": [
    "conn = sqlite3.connect('steam.db')\n",
    "c = conn.cursor()\n",
    "\n",
    "sql = \"SELECT id FROM finished_id limit 10\"\n",
    "c.execute(sql)\n",
    "\n",
    "rows = c.fetchall()\n",
    "\n",
    "print(rows)"
   ]
  },
  {
   "cell_type": "code",
   "execution_count": null,
   "metadata": {},
   "outputs": [],
   "source": [
    "    conn = sqlite3.connect('steam.db')\n",
    "    c = conn.cursor()\n",
    "    \n",
    "    ## Pull ID\n",
    "    c.execute(\"SELECT id FROM parse_id LIMIT 1\")\n",
    "    steamID = c.fetchone()[0]\n",
    "    \n",
    "    ## Insert ID\n",
    "    check = \"SELECT * FROM finished_id WHERE id = \"+str(steamID)\n",
    "    c.execute(check)\n",
    "    rows = c.fetchall()\n",
    "    \n",
    "    if len(rows) == 0:\n",
    "        insert = 'INSERT INTO finished_id VALUES ('+str(steamID)+')'\n",
    "        c.execute(insert)\n",
    "        \n",
    "    ## Delete ID\n",
    "    delete = 'DELETE FROM parse_id WHERE id = '+str(steamID)\n",
    "    c.execute(delete)"
   ]
  }
 ],
 "metadata": {
  "kernelspec": {
   "display_name": "Python 3",
   "language": "python",
   "name": "python3"
  },
  "language_info": {
   "codemirror_mode": {
    "name": "ipython",
    "version": 3
   },
   "file_extension": ".py",
   "mimetype": "text/x-python",
   "name": "python",
   "nbconvert_exporter": "python",
   "pygments_lexer": "ipython3",
   "version": "3.7.3"
  }
 },
 "nbformat": 4,
 "nbformat_minor": 2
}
