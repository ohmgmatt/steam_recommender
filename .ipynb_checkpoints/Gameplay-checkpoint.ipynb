{
 "cells": [
  {
   "cell_type": "code",
   "execution_count": 74,
   "metadata": {},
   "outputs": [],
   "source": [
    "import pandas as pd\n",
    "\n",
    "import requests\n",
    "import json\n",
    "\n",
    "from pprint import pprint\n",
    "\n",
    "import sqlite3\n",
    "\n",
    "import time"
   ]
  },
  {
   "cell_type": "code",
   "execution_count": 65,
   "metadata": {},
   "outputs": [],
   "source": [
    "## Static\n",
    "\n",
    "API_KEY = '176670784C92BEDAA5CA8D5FA9BBE5BA'\n",
    "BASE_URL = 'http://api.steampowered.com/'\n",
    "status = 200"
   ]
  },
  {
   "cell_type": "code",
   "execution_count": 76,
   "metadata": {},
   "outputs": [],
   "source": [
    "def steamFriends(steamid):\n",
    "    \n",
    "    time.sleep(1)\n",
    "    ## Establish the URL\n",
    "    friend_url = ''.join([BASE_URL,\n",
    "        'ISteamUser/GetFriendList/v0001/?key=',API_KEY,\n",
    "        '&steamid=',str(steamid),\n",
    "        '&relationship=friend'])\n",
    "    \n",
    "    ## Setting connection to DB\n",
    "    conn = sqlite3.connect('steam.db')\n",
    "    c = conn.cursor()\n",
    "    \n",
    "    ## Pull from using API\n",
    "    r = requests.get(friend_url)\n",
    "    \n",
    "    if r.status_code != 200:\n",
    "        return r.status_code\n",
    "    \n",
    "    content = json.loads(r.content)\n",
    "    \n",
    "    if 'friendslist' not in content:\n",
    "        return 200\n",
    "    \n",
    "    for i in content['friendslist']['friends']:\n",
    "        sid = int(i['steamid'])\n",
    "        \n",
    "        c.execute('SELECT * FROM parse_id WHERE id = ? UNION SELECT * FROM finished_id WHERE id = ?', (sid,sid))\n",
    "        rows = c.fetchall()\n",
    "        \n",
    "        if len(rows) == 0:\n",
    "            insert = \"INSERT INTO parse_id VALUES (\" + str(sid) + \")\"\n",
    "            c.execute(insert)\n",
    "            \n",
    "        else:\n",
    "            continue\n",
    "            \n",
    "    conn.commit()\n",
    "    \n",
    "    conn.close()\n",
    "    return 200"
   ]
  },
  {
   "cell_type": "code",
   "execution_count": 77,
   "metadata": {},
   "outputs": [],
   "source": [
    "def steamGames(steamid):\n",
    "    \n",
    "    time.sleep(1)\n",
    "    ## Establish the URL\n",
    "    game_url = ''.join([BASE_URL, \n",
    "                      'IPlayerService/GetOwnedGames/v0001/?key=',API_KEY,\n",
    "                      '&steamid=',str(steamid),\n",
    "                      '&format=json'])\n",
    "    \n",
    "    ## Setting connection to DB\n",
    "    conn = sqlite3.connect('steam.db')\n",
    "    c = conn.cursor()\n",
    "    \n",
    "    ## Pulling from API\n",
    "    r = requests.get(game_url)\n",
    "    \n",
    "    if r.status_code != 200:\n",
    "        return r.status_code\n",
    "    \n",
    "    content = json.loads(r.content)\n",
    "    \n",
    "    if content['response'] == {}:\n",
    "        return 200\n",
    "    \n",
    "    games = content['response']['games']\n",
    "    for g in games:\n",
    "        appid = g['appid']\n",
    "        playtime = g['playtime_forever']\n",
    "        if playtime == 0:\n",
    "            continue\n",
    "        \n",
    "        row = [steamid, appid, playtime]\n",
    "        \n",
    "        c.execute(\"INSERT INTO gameplay (steamID, appID, playtime) VALUES (?,?,?);\", row)\n",
    "        \n",
    "    conn.commit()\n",
    "    \n",
    "    conn.close()\n",
    "    \n",
    "    return 200"
   ]
  },
  {
   "cell_type": "code",
   "execution_count": 87,
   "metadata": {
    "scrolled": true
   },
   "outputs": [
    {
     "ename": "KeyError",
     "evalue": "'games'",
     "output_type": "error",
     "traceback": [
      "\u001b[0;31m---------------------------------------------------------------------------\u001b[0m",
      "\u001b[0;31mKeyError\u001b[0m                                  Traceback (most recent call last)",
      "\u001b[0;32m<ipython-input-87-0b2037f18fa8>\u001b[0m in \u001b[0;36m<module>\u001b[0;34m\u001b[0m\n\u001b[1;32m     28\u001b[0m     \u001b[0mstatus\u001b[0m \u001b[0;34m=\u001b[0m \u001b[0msteamFriends\u001b[0m\u001b[0;34m(\u001b[0m\u001b[0msteamID\u001b[0m\u001b[0;34m)\u001b[0m\u001b[0;34m\u001b[0m\u001b[0;34m\u001b[0m\u001b[0m\n\u001b[1;32m     29\u001b[0m \u001b[0;34m\u001b[0m\u001b[0m\n\u001b[0;32m---> 30\u001b[0;31m     \u001b[0mstatus\u001b[0m \u001b[0;34m=\u001b[0m \u001b[0msteamGames\u001b[0m\u001b[0;34m(\u001b[0m\u001b[0msteamID\u001b[0m\u001b[0;34m)\u001b[0m\u001b[0;34m\u001b[0m\u001b[0;34m\u001b[0m\u001b[0m\n\u001b[0m\u001b[1;32m     31\u001b[0m \u001b[0;34m\u001b[0m\u001b[0m\n\u001b[1;32m     32\u001b[0m     \u001b[0;32mif\u001b[0m \u001b[0mstatus\u001b[0m \u001b[0;34m!=\u001b[0m \u001b[0;36m200\u001b[0m\u001b[0;34m:\u001b[0m\u001b[0;34m\u001b[0m\u001b[0;34m\u001b[0m\u001b[0m\n",
      "\u001b[0;32m<ipython-input-77-96bb9f53306d>\u001b[0m in \u001b[0;36msteamGames\u001b[0;34m(steamid)\u001b[0m\n\u001b[1;32m     23\u001b[0m         \u001b[0;32mreturn\u001b[0m \u001b[0;36m200\u001b[0m\u001b[0;34m\u001b[0m\u001b[0;34m\u001b[0m\u001b[0m\n\u001b[1;32m     24\u001b[0m \u001b[0;34m\u001b[0m\u001b[0m\n\u001b[0;32m---> 25\u001b[0;31m     \u001b[0mgames\u001b[0m \u001b[0;34m=\u001b[0m \u001b[0mcontent\u001b[0m\u001b[0;34m[\u001b[0m\u001b[0;34m'response'\u001b[0m\u001b[0;34m]\u001b[0m\u001b[0;34m[\u001b[0m\u001b[0;34m'games'\u001b[0m\u001b[0;34m]\u001b[0m\u001b[0;34m\u001b[0m\u001b[0;34m\u001b[0m\u001b[0m\n\u001b[0m\u001b[1;32m     26\u001b[0m     \u001b[0;32mfor\u001b[0m \u001b[0mg\u001b[0m \u001b[0;32min\u001b[0m \u001b[0mgames\u001b[0m\u001b[0;34m:\u001b[0m\u001b[0;34m\u001b[0m\u001b[0;34m\u001b[0m\u001b[0m\n\u001b[1;32m     27\u001b[0m         \u001b[0mappid\u001b[0m \u001b[0;34m=\u001b[0m \u001b[0mg\u001b[0m\u001b[0;34m[\u001b[0m\u001b[0;34m'appid'\u001b[0m\u001b[0;34m]\u001b[0m\u001b[0;34m\u001b[0m\u001b[0;34m\u001b[0m\u001b[0m\n",
      "\u001b[0;31mKeyError\u001b[0m: 'games'"
     ]
    }
   ],
   "source": [
    "status = 200\n",
    "\n",
    "while status == 200:\n",
    "    conn = sqlite3.connect('steam.db')\n",
    "    c = conn.cursor()\n",
    "    \n",
    "    ## Pull ID\n",
    "    c.execute(\"SELECT id FROM parse_id LIMIT 1\")\n",
    "    steamID = c.fetchone()[0]\n",
    "    \n",
    "    ## Insert ID\n",
    "    check = \"SELECT * FROM finished_id WHERE id = \"+str(steamID)\n",
    "    c.execute(check)\n",
    "    rows = c.fetchall()\n",
    "    \n",
    "    if len(rows) == 0:\n",
    "        insert = 'INSERT INTO finished_id VALUES ('+str(steamID)+')'\n",
    "        c.execute(insert)\n",
    "        \n",
    "    ## Delete ID\n",
    "    delete = 'DELETE FROM parse_id WHERE id = '+str(steamID)\n",
    "    c.execute(delete)\n",
    "    \n",
    "    conn.commit()\n",
    "    \n",
    "    conn.close()\n",
    "    \n",
    "    status = steamFriends(steamID)\n",
    "    \n",
    "    status = steamGames(steamID)\n",
    "    \n",
    "    if status != 200:\n",
    "        print(status)"
   ]
  },
  {
   "cell_type": "code",
   "execution_count": null,
   "metadata": {},
   "outputs": [],
   "source": []
  },
  {
   "cell_type": "code",
   "execution_count": null,
   "metadata": {},
   "outputs": [],
   "source": []
  }
 ],
 "metadata": {
  "kernelspec": {
   "display_name": "Python 3",
   "language": "python",
   "name": "python3"
  },
  "language_info": {
   "codemirror_mode": {
    "name": "ipython",
    "version": 3
   },
   "file_extension": ".py",
   "mimetype": "text/x-python",
   "name": "python",
   "nbconvert_exporter": "python",
   "pygments_lexer": "ipython3",
   "version": "3.7.3"
  }
 },
 "nbformat": 4,
 "nbformat_minor": 2
}
