{
 "cells": [
  {
   "cell_type": "code",
   "execution_count": 1,
   "metadata": {},
   "outputs": [],
   "source": [
    "import requests\n",
    "from pprint import pprint\n",
    "import json\n",
    "import pandas as pd\n",
    "\n",
    "import sqlite3\n",
    "\n",
    "import config"
   ]
  },
  {
   "cell_type": "code",
   "execution_count": 3,
   "metadata": {},
   "outputs": [],
   "source": [
    "API_KEY = config.API_KEY"
   ]
  },
  {
   "cell_type": "code",
   "execution_count": 182,
   "metadata": {},
   "outputs": [],
   "source": [
    "base_url = 'http://api.steampowered.com/'"
   ]
  },
  {
   "cell_type": "code",
   "execution_count": 183,
   "metadata": {},
   "outputs": [],
   "source": [
    "ids = set()\n",
    "finished_ids = set()"
   ]
  },
  {
   "cell_type": "code",
   "execution_count": 184,
   "metadata": {},
   "outputs": [],
   "source": [
    "base_id = 76561197960435530"
   ]
  },
  {
   "cell_type": "code",
   "execution_count": 185,
   "metadata": {},
   "outputs": [],
   "source": [
    "ids.add(base_id)"
   ]
  },
  {
   "cell_type": "code",
   "execution_count": 186,
   "metadata": {},
   "outputs": [],
   "source": [
    "gameplay = pd.DataFrame(columns = ['steamID', 'appID', 'playtime'])"
   ]
  },
  {
   "cell_type": "code",
   "execution_count": 197,
   "metadata": {},
   "outputs": [
    {
     "name": "stdout",
     "output_type": "stream",
     "text": [
      "76561198022003287\n",
      "63\n"
     ]
    }
   ],
   "source": [
    "steamID = ids.pop()\n",
    "strSteamID = str(steamID)\n",
    "finished_ids.add(steamID)\n",
    "\n",
    "friend_url = base_url+'ISteamUser/GetFriendList/v0001/?key='+API_KEY+'&steamid='+str(steamID)+'&relationship=friend'\n",
    "\n",
    "r = requests.get(friend_url)\n",
    "if r.status_code == 200:\n",
    "    item = json.loads(r.content)\n",
    "    if 'friendslist' in item:\n",
    "        for i in item['friendslist']['friends']:\n",
    "            if i['steamid'] in ids or i['steamid'] in finished_ids:\n",
    "                continue\n",
    "            ids.add(i['steamid'])\n",
    "            \n",
    "game_url = base_url+'IPlayerService/GetOwnedGames/v0001/?key='+API_KEY+'&steamid='+str(steamID)+'&format=json'\n",
    "\n",
    "r = requests.get(game_url)\n",
    "if r.status_code == 200:\n",
    "    item = json.loads(r.content)\n",
    "    if item['response'] != {}:\n",
    "        games = item['response']['games']\n",
    "        for g in games:\n",
    "            appID = g['appid']\n",
    "            playtime = g['playtime_forever']\n",
    "            if playtime == 0:\n",
    "                continue\n",
    "            gameplay.loc[len(gameplay)] = [steamID, appID, playtime]\n",
    "            \n",
    "\n",
    "print(steamID)\n",
    "print(len(gameplay))"
   ]
  },
  {
   "cell_type": "code",
   "execution_count": 188,
   "metadata": {},
   "outputs": [
    {
     "name": "stdout",
     "output_type": "stream",
     "text": [
      "<class 'set'>\n"
     ]
    }
   ],
   "source": [
    "print(type(ids))"
   ]
  },
  {
   "cell_type": "code",
   "execution_count": 100,
   "metadata": {},
   "outputs": [
    {
     "data": {
      "text/plain": [
       "'/Users/Matt/Google Drive/Projects/Steam'"
      ]
     },
     "execution_count": 100,
     "metadata": {},
     "output_type": "execute_result"
    }
   ],
   "source": [
    "pwd"
   ]
  },
  {
   "cell_type": "code",
   "execution_count": 102,
   "metadata": {},
   "outputs": [],
   "source": [
    "conn = sqlite3.connect('steam.db')"
   ]
  },
  {
   "cell_type": "code",
   "execution_count": null,
   "metadata": {},
   "outputs": [],
   "source": [
    "c = conn.cursor()\n",
    "\n",
    "# Create table\n",
    "c.execute('''CREATE TABLE stocks\n",
    "             (date text, trans text, symbol text, qty real, price real)''')\n",
    "\n",
    "# Insert a row of data\n",
    "c.execute(\"INSERT INTO stocks VALUES ('2006-01-05','BUY','RHAT',100,35.14)\")\n",
    "\n",
    "# Save (commit) the changes\n",
    "conn.commit()\n",
    "\n",
    "# We can also close the connection if we are done with it.\n",
    "# Just be sure any changes have been committed or they will be lost.\n",
    "conn.close()"
   ]
  },
  {
   "cell_type": "code",
   "execution_count": 106,
   "metadata": {},
   "outputs": [],
   "source": [
    "c = conn.cursor()"
   ]
  },
  {
   "cell_type": "code",
   "execution_count": 107,
   "metadata": {},
   "outputs": [],
   "source": [
    "insert = \"INSERT INTO gameplay VALUES (123312345, 2456, 123)\""
   ]
  },
  {
   "cell_type": "code",
   "execution_count": 108,
   "metadata": {},
   "outputs": [
    {
     "data": {
      "text/plain": [
       "<sqlite3.Cursor at 0x1162dd030>"
      ]
     },
     "execution_count": 108,
     "metadata": {},
     "output_type": "execute_result"
    }
   ],
   "source": [
    "c.execute(insert)"
   ]
  },
  {
   "cell_type": "code",
   "execution_count": 109,
   "metadata": {},
   "outputs": [],
   "source": [
    "conn.commit()"
   ]
  },
  {
   "cell_type": "code",
   "execution_count": 156,
   "metadata": {},
   "outputs": [],
   "source": [
    "conn.close()"
   ]
  },
  {
   "cell_type": "code",
   "execution_count": 151,
   "metadata": {},
   "outputs": [],
   "source": [
    "conn = sqlite3.connect('steam.db')\n",
    "\n",
    "c = conn.cursor()\n",
    "\n",
    "for i in finished_ids:\n",
    "    insert = \"INSERT INTO finished_id VALUES (\"+ str(i) +\")\"\n",
    "    \n",
    "    c.execute(insert)\n",
    "    \n",
    "conn.commit()\n",
    "\n",
    "conn.close()"
   ]
  },
  {
   "cell_type": "code",
   "execution_count": 152,
   "metadata": {},
   "outputs": [
    {
     "data": {
      "text/plain": [
       "<sqlite3.Cursor at 0x1045fe0a0>"
      ]
     },
     "execution_count": 152,
     "metadata": {},
     "output_type": "execute_result"
    }
   ],
   "source": [
    "conn = sqlite3.connect('steam.db')\n",
    "\n",
    "c = conn.cursor()\n",
    "\n",
    "sql = \"SELECT * FROM finished_id\"\n",
    "\n",
    "c.execute(sql)\n",
    "\n"
   ]
  },
  {
   "cell_type": "code",
   "execution_count": 153,
   "metadata": {},
   "outputs": [],
   "source": [
    "itemized = c.fetchall()"
   ]
  },
  {
   "cell_type": "code",
   "execution_count": 154,
   "metadata": {},
   "outputs": [],
   "source": [
    "values = set(itemized)"
   ]
  },
  {
   "cell_type": "code",
   "execution_count": 159,
   "metadata": {},
   "outputs": [
    {
     "name": "stdout",
     "output_type": "stream",
     "text": [
      "good to go\n"
     ]
    }
   ],
   "source": [
    "## TESTING if the value exists in the database\n",
    "\n",
    "conn = sqlite3.connect('steam.db')\n",
    "\n",
    "c = conn.cursor()\n",
    "\n",
    "idcheck = 86561198050473193\n",
    "\n",
    "c.execute(\"SELECT id FROM parse_id WHERE id = ? UNION SELECT id FROM finished_id WHERE id =?\", (idcheck, idcheck))\n",
    "\n",
    "data = c.fetchall()\n",
    "\n",
    "if len(data) == 0:\n",
    "    print(\"good to go\")\n",
    "    \n",
    "else:\n",
    "    print(\"REALLY BAD\")\n",
    "    \n",
    "conn.close()\n"
   ]
  },
  {
   "cell_type": "code",
   "execution_count": 198,
   "metadata": {},
   "outputs": [],
   "source": [
    "## saving to the database\n",
    "\n",
    "conn = sqlite3.connect('steam.db')\n",
    "\n",
    "gameplay.to_sql(\"gameplay\", conn, if_exists=\"replace\")\n",
    "\n",
    "conn.commit()\n",
    "\n",
    "conn.close()"
   ]
  },
  {
   "cell_type": "code",
   "execution_count": 163,
   "metadata": {},
   "outputs": [],
   "source": [
    "## reading from the database\n",
    "\n",
    "conn = sqlite3.connect('steam.db')\n",
    "\n",
    "gameplay = pd.read_sql(\"SELECT * FROM gameplay\", conn)\n",
    "\n",
    "conn.close()"
   ]
  },
  {
   "cell_type": "code",
   "execution_count": 166,
   "metadata": {},
   "outputs": [
    {
     "ename": "NameError",
     "evalue": "name 'concat' is not defined",
     "output_type": "error",
     "traceback": [
      "\u001b[0;31m---------------------------------------------------------------------------\u001b[0m",
      "\u001b[0;31mNameError\u001b[0m                                 Traceback (most recent call last)",
      "\u001b[0;32m<ipython-input-166-48729c55a06d>\u001b[0m in \u001b[0;36m<module>\u001b[0;34m\u001b[0m\n\u001b[0;32m----> 1\u001b[0;31m \u001b[0mconcat\u001b[0m\u001b[0;34m(\u001b[0m\u001b[0;34m'this'\u001b[0m\u001b[0;34m,\u001b[0m \u001b[0;34m'one'\u001b[0m\u001b[0;34m)\u001b[0m\u001b[0;34m\u001b[0m\u001b[0;34m\u001b[0m\u001b[0m\n\u001b[0m",
      "\u001b[0;31mNameError\u001b[0m: name 'concat' is not defined"
     ]
    }
   ],
   "source": [
    "concat('this', 'one')"
   ]
  },
  {
   "cell_type": "code",
   "execution_count": 173,
   "metadata": {},
   "outputs": [],
   "source": [
    "def toasty(item = None):\n",
    "    if item == None:\n",
    "        return \"item\"\n",
    "    else:\n",
    "        print(item)"
   ]
  },
  {
   "cell_type": "code",
   "execution_count": 202,
   "metadata": {},
   "outputs": [],
   "source": [
    "conn = sqlite3.connect('steam.db')\n",
    "\n",
    "c = conn.cursor()\n",
    "\n",
    "for i in finished_ids:\n",
    "    insert = \"INSERT INTO finished_id VALUES (\"+ str(i) +\")\"\n",
    "    \n",
    "    c.execute(insert)\n",
    "    \n",
    "conn.commit()\n",
    "\n",
    "conn.close()"
   ]
  },
  {
   "cell_type": "code",
   "execution_count": null,
   "metadata": {},
   "outputs": [],
   "source": []
  },
  {
   "cell_type": "code",
   "execution_count": null,
   "metadata": {},
   "outputs": [],
   "source": []
  }
 ],
 "metadata": {
  "kernelspec": {
   "display_name": "Python 3",
   "language": "python",
   "name": "python3"
  },
  "language_info": {
   "codemirror_mode": {
    "name": "ipython",
    "version": 3
   },
   "file_extension": ".py",
   "mimetype": "text/x-python",
   "name": "python",
   "nbconvert_exporter": "python",
   "pygments_lexer": "ipython3",
   "version": "3.7.3"
  }
 },
 "nbformat": 4,
 "nbformat_minor": 2
}
